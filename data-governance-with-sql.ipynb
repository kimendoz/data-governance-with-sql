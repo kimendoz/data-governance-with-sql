{
 "cells": [
  {
   "cell_type": "markdown",
   "id": "76f561d2",
   "metadata": {},
   "source": [
    "# 📘 Data Governance with SQL\n",
    "\n",
    "This notebook demonstrates how to use SQL to build a simple employee management database. It emphasizes data governance principles such as referential integrity, data validation, and clean schema design.\n",
    "\n",
    "We use Python to communicate with the SQLite database and to print results in a readable format. However, all data creation, retrieval, and manipulation are done through SQL. This setup allows us to focus on learning SQL while using Python as a convenient interface."
   ]
  },
  {
   "cell_type": "code",
   "execution_count": null,
   "id": "68b2073f-75b4-4b53-97f6-ef75a93023f1",
   "metadata": {},
   "outputs": [],
   "source": [
    "# We use sqlite3 to interact with the database \n",
    "# and pandas to format query results as tables\n",
    "import sqlite3\n",
    "import pandas as pd"
   ]
  },
  {
   "cell_type": "markdown",
   "id": "65edf234",
   "metadata": {},
   "source": [
    "## 🧱 1. Initialize a SQLite Database"
   ]
  },
  {
   "cell_type": "markdown",
   "id": "176f1067",
   "metadata": {},
   "source": [
    "SQLite is a lightweight and self-contained relational database engine. Unlike traditional database systems that require a separate server process, SQLite stores all data in a single file on disk and runs directly within the application that accesses it. Because of its simplicity and zero-configuration setup, SQLite is widely used in embedded systems, mobile apps, and teaching environments.\n",
    "\n",
    "In this section, we create an in-memory SQLite database and set up a cursor object to execute SQL commands. This temporary database exists only while the notebook is running, making it ideal for experimentation and instruction."
   ]
  },
  {
   "cell_type": "code",
   "execution_count": null,
   "id": "8351e5f7-c1e1-4943-b11a-e3bf730b5978",
   "metadata": {},
   "outputs": [],
   "source": [
    "# Connect to an in-memory SQLite database\n",
    "con = sqlite3.connect(':memory:')\n",
    "\n",
    "# Create a cursor object to execute SQL commands\n",
    "cur = con.cursor()"
   ]
  },
  {
   "cell_type": "markdown",
   "id": "1798c4bf",
   "metadata": {},
   "source": [
    "## 🛠️ 2. Define SQL Execution Helper Functions"
   ]
  },
  {
   "cell_type": "markdown",
   "id": "f34a6e25",
   "metadata": {},
   "source": [
    "This section defines reusable helper functions that let us execute SQL scripts and queries from files or strings. You don't need to modify or deeply understand this code. These are just functions to run SQL queries or scripts throughout the notebook."
   ]
  },
  {
   "cell_type": "code",
   "execution_count": null,
   "id": "d2511ad0-a17b-45c2-b7ee-29442d579745",
   "metadata": {},
   "outputs": [],
   "source": [
    "# Define a helper function to execute a SQL script inside a file\n",
    "def execute_sql_script_from_file(filepath):\n",
    "    try:\n",
    "        with open(filepath, 'r') as f:\n",
    "            sql_script = f.read()\n",
    "\n",
    "        print(f'🖥 Executing SQL script from file {filepath}')\n",
    "        cur.executescript(sql_script)\n",
    "        print(f\"✅ Successfully executed SQL script from file {filepath}\")\n",
    "    except Exception as e:\n",
    "        print(f\"❌ An error occurred: {e}\")\n",
    "\n",
    "\n",
    "# Define a helper function to execute a SQL query string\n",
    "def execute_sql_query(query):\n",
    "    try:\n",
    "        # Execute the query\n",
    "        cur.execute(query)\n",
    "\n",
    "        if cur.description is not None:\n",
    "            # Fetch all rows and column names\n",
    "            rows = cur.fetchall()\n",
    "            column_names = [description[0] for description in cur.description]\n",
    "    \n",
    "            if rows:\n",
    "                print(f\"✅ Query executed successfully. {len(rows)} row{'s' if len(rows) >= 2 else ''} to display.\")\n",
    "            else:\n",
    "                print(\"✅ Query executed successfully. No results to display.\")\n",
    "    \n",
    "            df = pd.DataFrame(rows, columns=column_names)\n",
    "            df_sql_output_style = df.style.format(na_rep='NULL').hide(axis='index')\n",
    "            display(df_sql_output_style)\n",
    "        else:\n",
    "            # For INSERT, UPDATE, DELETE, etc.\n",
    "            print(\"✅ Query executed successfully. No results to display.\")\n",
    "    except sqlite3.Error as e:\n",
    "        print(f\"❌ An error occurred: {e}\")\n",
    "\n",
    "# Define a helper function to execute a SQL query inside a file\n",
    "def execute_sql_query_from_file(filepath):\n",
    "        with open(filepath, 'r') as f:\n",
    "            query_string = f.read()\n",
    "\n",
    "            print(f'🖥 Executing SQL query from file {filepath}')\n",
    "            execute_sql_query(query_string)\n"
   ]
  },
  {
   "cell_type": "markdown",
   "id": "a421afd1",
   "metadata": {},
   "source": [
    "## 🗂️ 3. Create and Populate Database Tables"
   ]
  },
  {
   "cell_type": "markdown",
   "id": "5e0fd5e6",
   "metadata": {},
   "source": [
    "### 3.1 Create tables using SQL scripts\n",
    "\n",
    "The SQL statements that define our database schema are stored in a **separate `.sql` script file**. This file contains the full `CREATE TABLE` commands for `departments`, `job_titles`, and `employees`, including all primary keys, foreign keys, and check constraints. In this notebook, we simply execute that script using a helper function. If you'd like to view, edit, or study the SQL in detail, you can open the file named `sql-scripts/setup_create_tables.sql` directly in your Jupyter notebook environment or a code editor."
   ]
  },
  {
   "cell_type": "code",
   "execution_count": null,
   "id": "e1308502-8e42-49f9-b0ad-22f9a4f2af07",
   "metadata": {},
   "outputs": [],
   "source": [
    "execute_sql_script_from_file('./sql-scripts/setup_create_tables.sql')"
   ]
  },
  {
   "cell_type": "markdown",
   "id": "77cf32d1-a3e6-4a1f-a55e-f5caf28128d3",
   "metadata": {},
   "source": [
    "### 3.2 Populate tables with sample rows using SQL scripts"
   ]
  },
  {
   "cell_type": "code",
   "execution_count": null,
   "id": "c39e0bf4-3176-478a-a962-77e3e1425d9f",
   "metadata": {},
   "outputs": [],
   "source": [
    "execute_sql_script_from_file('./sql-scripts/setup_populate_tables.sql')"
   ]
  },
  {
   "cell_type": "markdown",
   "id": "d970611d-86f4-48f5-8fc5-b11a60d556e1",
   "metadata": {},
   "source": [
    "### 3.3 Print (query) all tables within the database"
   ]
  },
  {
   "cell_type": "code",
   "execution_count": null,
   "id": "13632e03-672d-4d5f-8dc9-3663afaeea27",
   "metadata": {},
   "outputs": [],
   "source": [
    "execute_sql_query('SELECT type, tbl_name FROM sqlite_master WHERE type=\"table\";')"
   ]
  },
  {
   "cell_type": "markdown",
   "id": "e05b3f80-82b3-44ea-bf0b-c6003bc7b3fe",
   "metadata": {},
   "source": [
    "### 3.4 Query all departments"
   ]
  },
  {
   "cell_type": "code",
   "execution_count": null,
   "id": "1954117c-69d4-40e9-bc00-c32900f155e6",
   "metadata": {},
   "outputs": [],
   "source": [
    "execute_sql_query('SELECT * FROM departments;')"
   ]
  },
  {
   "cell_type": "markdown",
   "id": "d044d2fc-dc4d-4402-aa04-bc36983e3639",
   "metadata": {},
   "source": [
    "### 3.5 Query all job titles"
   ]
  },
  {
   "cell_type": "code",
   "execution_count": null,
   "id": "e923bb6f-dcc2-4623-b691-019e6ffaa969",
   "metadata": {},
   "outputs": [],
   "source": [
    "execute_sql_query('SELECT * FROM job_titles;')"
   ]
  },
  {
   "cell_type": "markdown",
   "id": "e4bf61da-b046-4077-8909-97a3948c7536",
   "metadata": {},
   "source": [
    "### 3.6 Query first 10 rows in the employees table"
   ]
  },
  {
   "cell_type": "code",
   "execution_count": null,
   "id": "31936047-fdc9-4102-ad07-46e8becc7d3c",
   "metadata": {},
   "outputs": [],
   "source": [
    "execute_sql_query('SELECT * FROM employees LIMIT 10;')"
   ]
  },
  {
   "cell_type": "markdown",
   "id": "b4903598-1aa5-4ead-ae7a-318620a7c4b0",
   "metadata": {},
   "source": [
    "## 🔍 4. Using SQL to Retrieve Information with Data Governance in Mind"
   ]
  },
  {
   "cell_type": "markdown",
   "id": "01de9523-06a2-4caa-b663-b1056a174b32",
   "metadata": {},
   "source": [
    "### 4.1 Report on-boarding employees and mask sensitive data \n",
    "\n",
    "- Open the SQL file at `sql-scripts/4_1_all_onboarding_employees.sql` and write a query that meets the requirements below.\n",
    "- List all employees who are currently in the \"On-boarding\" status.\n",
    "- Display each employee's full name, start date, department name, job title, pay type, and status.\n",
    "- Instead of showing the actual pay rate, display the word \"HIDDEN\" in the pay_rate column.\n",
    "- Use joins to combine data from the `employees`, `departments`, and `job_titles` tables.\n",
    "- Sorting is not required.\n",
    "- **Data Governance Note:** The `pay_rate` column contains sensitive compensation data. In accordance with data governance policies, sensitive information like salary should be masked or excluded from general reporting queries unless access is explicitly authorized."
   ]
  },
  {
   "cell_type": "code",
   "execution_count": null,
   "id": "c3a66e32-8881-494d-8cd7-3ab031f33384",
   "metadata": {},
   "outputs": [],
   "source": [
    "execute_sql_query_from_file('./sql-scripts/4_1_all_onboarding_employees.sql')"
   ]
  },
  {
   "cell_type": "markdown",
   "id": "5f77d64a-5c4d-47cd-b12f-0efe03f38c95",
   "metadata": {},
   "source": [
    "### 4.2. Identify records that should be disposed or archived\n",
    "\n",
    "- Open the SQL file at `sql-scripts/4_2_identify_employee_rows_for_disposal.sql` and write a query that meets the requirements below.\n",
    "- Assume that the company's data retention policy requires that employee records terminated before 2023 should not remain in the active database.\n",
    "- List all employees who have been terminated on or before December 31, 2022.\n",
    "- Display the employee's full name, department name, end date, and status.\n",
    "- Use a join to include department information from the `departments` table.\n",
    "- Sorting is not required.\n",
    "- **Data Governance Note:** This query helps identify records that may need to be archived or deleted in accordance with the company's data retention policy."
   ]
  },
  {
   "cell_type": "code",
   "execution_count": null,
   "id": "1d9656f2-1ea8-483f-b35c-7745160e0e46",
   "metadata": {},
   "outputs": [],
   "source": [
    "execute_sql_query_from_file('./sql-scripts/4_2_identify_employee_rows_for_disposal.sql')"
   ]
  },
  {
   "cell_type": "markdown",
   "id": "3482a947-9be3-4942-a11c-1c35358b8699",
   "metadata": {},
   "source": [
    "### 4.3 Check for incorrect end dates\n",
    "\n",
    "- Open the SQL file at `sql-scripts/4_3_check_end_date_anomaly.sql` and write a query that meets the requirements below.\n",
    "- Find all employees whose end date is after today's date.\n",
    "- Display the employee ID, full name, start date, end date, and status.\n",
    "- Only include employees with an end date that is later than the current date.\n",
    "- Sorting is not required.\n",
    "- **Data Governance Note:** This query helps detect potential data entry errors or anomalies, such as future termination dates. Regular checks like this support data integrity and help ensure the reliability of HR records and reporting."
   ]
  },
  {
   "cell_type": "code",
   "execution_count": null,
   "id": "d4fa1f41-4798-4e24-a408-66c50fa46f79",
   "metadata": {},
   "outputs": [],
   "source": [
    "execute_sql_query_from_file('./sql-scripts/4_3_check_end_date_anomaly.sql')"
   ]
  },
  {
   "cell_type": "markdown",
   "id": "34f7a658-75f3-4032-9e5a-b80d5dea5f69",
   "metadata": {},
   "source": [
    "🚨 Normally, this query should return no rows, because an end date in the future would be considered a data entry error. In this case, the query returned a row for employee Christopher Crane, whose `end_date` is recorded as **2054-05-28**. This likely indicates a data entry mistake (e.g., a typo when entering the year or incorrect date formatting)."
   ]
  },
  {
   "cell_type": "markdown",
   "id": "7ae15bd1-3317-421d-88c7-cf00555e0ed0",
   "metadata": {},
   "source": [
    "### 4.4 Check for potentially incorrect hourly rates\n",
    "\n",
    "- Open the SQL file at `sql-scripts/4_4_check_hourly_rate_anomaly.sql` and write a query that meets the requirements below.\n",
    "- List all employees who are paid on an hourly basis and have a pay rate greater than \\\\$10,000.\n",
    "- Display the employee ID, full name, department name, job title, status, pay type, and pay rate.\n",
    "- Use joins to combine data from the `employees`, `departments`, and `job_titles` tables.\n",
    "- Sorting is not required.\n",
    "- **Data Governance Note:** This query can help identify potentially incorrect or outlier hourly pay rates, which may signal data entry errors or policy violations. Regular checks like this support data quality monitoring by helping ensure that compensation data remains accurate, consistent, and compliant with organizational policies."
   ]
  },
  {
   "cell_type": "code",
   "execution_count": null,
   "id": "21cf9985-7ffd-42ce-ba03-78943ca10295",
   "metadata": {},
   "outputs": [],
   "source": [
    "execute_sql_query_from_file('./sql-scripts/4_4_check_hourly_rate_anomaly.sql')"
   ]
  },
  {
   "cell_type": "markdown",
   "id": "2aa8e9e1-8d7d-4cf3-afe3-8e94c85887bc",
   "metadata": {},
   "source": [
    "🚨 This query checks for employees with an hourly pay rate greater than \\\\$10,000, which would typically be considered an anomaly. In this case, the query returned a row for employee Eric Hodges, whose `pay_rate` is recorded as \\\\$84,184.60. This unusually high hourly rate suggests a data entry error, such as entering an annual salary into an hourly pay field."
   ]
  },
  {
   "cell_type": "markdown",
   "id": "339cd7a2-2502-4d87-83a0-5e11aff34ea4",
   "metadata": {},
   "source": [
    "## 🔒 5. Using SQL to Impose Data Integrity\n",
    "\n",
    "💡 **Note 1:** The queries in this section are **intentionally designed to fail**. They attempt to insert or update data in ways that violate the integrity rules we've defined in our schema - such as primary key constraints, foreign key references, and check conditions. These errors are a feature, not a bug: they demonstrate how well-structured databases protect themselves from invalid or inconsistent data. Understanding why these queries fail is just as important as writing queries that succeed.\n",
    "\n",
    "**📝 Note 2:** In this section, we will use **multiline strings** in Python by wrapping our SQL queries with triple single quotes (`'''`). Triple single quotes (`'''`) or triple double quotes (`\"\"\"`) are used in Python to define **multiline string literals**. These allow you to span text across multiple lines without needing escape characters like `\\n`. This is especially useful when writing SQL queries or large blocks of text."
   ]
  },
  {
   "cell_type": "markdown",
   "id": "c0b41405-e068-4f82-afc1-9e2dc36fe643",
   "metadata": {},
   "source": [
    "### 5.1 Prevent a duplicate `department_id`\n",
    "\n",
    "Try executing an `INSERT` statement with a primary key that already exists in the `departments` table. "
   ]
  },
  {
   "cell_type": "code",
   "execution_count": null,
   "id": "de58a87e-be97-4fbc-99ee-6c14a9cb2494",
   "metadata": {},
   "outputs": [],
   "source": [
    "execute_sql_query('''\n",
    "    INSERT INTO departments (department_id, department_name) \n",
    "    VALUES (1, 'Accounting'); -- ⚠️ department_id == 1 already exists in the departments table\n",
    "''')"
   ]
  },
  {
   "cell_type": "markdown",
   "id": "34410da6-78f5-43ad-8ebf-72efa976b2b0",
   "metadata": {},
   "source": [
    "🔍 Why it fails: `department_id = 1` already exists. This is a primary key constraint violation. Each primary key value should be unique."
   ]
  },
  {
   "cell_type": "markdown",
   "id": "8b6bbcf2-1e51-4ec2-803c-1cbda8fd4ad8",
   "metadata": {},
   "source": [
    "#### Correct Query\n",
    "\n",
    "- When inserting a new department, you should omit the `department_id` so that the database can automatically assign the next available ID.\n",
    "- This prevents conflicts with existing IDs and helps maintain data integrity.\n",
    "\n",
    "💡 Note: Running this query multiple times will keep adding an extra row to the `departments` table with duplicate `department_name` value (`'Accounting'`). This is because we have not added a `UNIQUE` constraint to the `department_name` column."
   ]
  },
  {
   "cell_type": "code",
   "execution_count": null,
   "id": "3c8163fe-f9ef-4044-bb1b-3f3b997230e9",
   "metadata": {},
   "outputs": [],
   "source": [
    "execute_sql_query('''\n",
    "    INSERT INTO departments (department_name) \n",
    "    VALUES ('Accounting');\n",
    "''')"
   ]
  },
  {
   "cell_type": "markdown",
   "id": "6c453587-d152-4718-9a8b-bd6a0ad478e2",
   "metadata": {},
   "source": [
    "Check the result."
   ]
  },
  {
   "cell_type": "code",
   "execution_count": null,
   "id": "1019fef9-38bb-4adf-a16c-de1db503c9b7",
   "metadata": {},
   "outputs": [],
   "source": [
    "execute_sql_query('''\n",
    "    SELECT * FROM departments;\n",
    "''')"
   ]
  },
  {
   "cell_type": "markdown",
   "id": "b4e08979-8738-46da-accf-d4656bfaa265",
   "metadata": {},
   "source": [
    "### 5.2 Prevent a duplicate `job_title`\n",
    "\n",
    "Try executing an `INSERT` statement with a job title that already exists in the `job_titles` table."
   ]
  },
  {
   "cell_type": "code",
   "execution_count": null,
   "id": "98af23f8-a881-4ad6-91d1-11efdca9ef85",
   "metadata": {},
   "outputs": [],
   "source": [
    "execute_sql_query('''\n",
    "    INSERT INTO job_titles (job_title) \n",
    "    VALUES ('Software Engineer'); -- ⚠️ `Software Engineer` already exists in the \n",
    "''')"
   ]
  },
  {
   "cell_type": "markdown",
   "id": "aaaedaaa-e09c-4a8b-aade-0259e07fe328",
   "metadata": {},
   "source": [
    "🔍 Why it fails: `job_title == 'Software Engineer'` already exists in the `job_title` table. → `UNIQUE` constraint violation on `job_title`."
   ]
  },
  {
   "cell_type": "markdown",
   "id": "695d4081-aa56-48cd-ad8c-4e6b662cf1fe",
   "metadata": {},
   "source": [
    "### 5.3 Prevent a negative `pay_rate`\n",
    "\n",
    "Try executing an `INSERT` statement with a negative `pay_rate`."
   ]
  },
  {
   "cell_type": "code",
   "execution_count": null,
   "id": "82c19d6d-cf02-42b8-b6e9-2f253e7e32c4",
   "metadata": {},
   "outputs": [],
   "source": [
    "execute_sql_query('''\n",
    "    INSERT INTO employees (\n",
    "        employee_id,\n",
    "        full_name,\n",
    "        start_date,\n",
    "        end_date,\n",
    "        department_id,\n",
    "        job_title_id,\n",
    "        status,\n",
    "        pay_type,\n",
    "        pay_rate\n",
    "    ) VALUES (\n",
    "        108,\n",
    "        'Ashley Potts',\n",
    "        '2023-01-01',\n",
    "        NULL,\n",
    "        1,\n",
    "        1,\n",
    "        'Active',\n",
    "        'Hourly',\n",
    "        -25.00 -- ⚠️ pay_rate is a negative amount\n",
    "    );\n",
    "''')"
   ]
  },
  {
   "cell_type": "markdown",
   "id": "061e5caf-df16-4474-a29a-c1de803806e3",
   "metadata": {},
   "source": [
    "🔍 Why it fails: `pay_rate` < 0 violates the `CHECK` constraint (`pay_rate` > 0)"
   ]
  },
  {
   "cell_type": "markdown",
   "id": "a6ccff35-34d7-40ae-924c-d852cea43d64",
   "metadata": {},
   "source": [
    "### 5.4 Prevent an `end_date` that is earlier than the `start_date`\n",
    "\n",
    "Try executing an `INSERT` statement with an `end_date` earlier than the `start_date`."
   ]
  },
  {
   "cell_type": "code",
   "execution_count": null,
   "id": "1c471fee-a7f3-4819-a7b4-b1cddd0b4a83",
   "metadata": {},
   "outputs": [],
   "source": [
    "execute_sql_query('''\n",
    "    INSERT INTO employees (\n",
    "        employee_id,\n",
    "        full_name,\n",
    "        start_date,\n",
    "        end_date,\n",
    "        department_id,\n",
    "        job_title_id,\n",
    "        status,\n",
    "        pay_type,\n",
    "        pay_rate\n",
    "    ) VALUES (\n",
    "        109,\n",
    "        'Jenny Park',\n",
    "        '2024-01-01',\n",
    "        '2022-12-01', -- ⚠️ end_date is 2022, while the start date is 2024\n",
    "        1,\n",
    "        1,\n",
    "        'Terminated',\n",
    "        'Salary',\n",
    "        80000\n",
    "    );\n",
    "''')"
   ]
  },
  {
   "cell_type": "markdown",
   "id": "a18b0378-7733-475e-ad41-45e7d8828dbb",
   "metadata": {},
   "source": [
    "🔍 Why it fails: `end_date` < `start_date` → `CHECK` constraint violation (`end_date IS NULL OR end_date >= start_date`)"
   ]
  },
  {
   "cell_type": "markdown",
   "id": "6a35a05e-6086-469b-a8a2-bd1d51dfba9a",
   "metadata": {},
   "source": [
    "### 5.5 Prevent an invalid employee `status` value\n",
    "\n",
    "Try executing an `INSERT` statement with a `status` that is not one of the allowed values."
   ]
  },
  {
   "cell_type": "code",
   "execution_count": null,
   "id": "901b4906-7397-4389-b5fb-0e63df4a20b1",
   "metadata": {},
   "outputs": [],
   "source": [
    "execute_sql_query('''\n",
    "    INSERT INTO employees (\n",
    "        employee_id,\n",
    "        full_name,\n",
    "        start_date,\n",
    "        end_date,\n",
    "        department_id,\n",
    "        job_title_id,\n",
    "        status,\n",
    "        pay_type,\n",
    "        pay_rate\n",
    "    ) VALUES (\n",
    "        107,\n",
    "        'Ari Moss',\n",
    "        '2023-09-01',\n",
    "        NULL,\n",
    "        1,\n",
    "        1,\n",
    "        'Actiive', -- ⚠️ Invalid status (typo) - should be 'Active' instead of 'Actiive'\n",
    "        'Salary',\n",
    "        75000\n",
    "    );\n",
    "''')"
   ]
  },
  {
   "cell_type": "markdown",
   "id": "dcf3341a-10a9-47cf-b5c3-afbd06c63d67",
   "metadata": {},
   "source": [
    "🔍 Why it fails: 'Actiive' is not one of the allowed values according to the `CHECK` constraint on `status` (`IN ('Active', 'On-boarding', 'Terminated')`)"
   ]
  },
  {
   "cell_type": "markdown",
   "id": "30b82159",
   "metadata": {},
   "source": [
    "## ✅ 6. Summary and Next Steps\n",
    "In this notebook, we built a simple SQLite database to demonstrate key data governance principles: unique identifiers, referential integrity, and validation rules through constraints. These foundations are essential in building systems that are reliable, auditable, and secure. In the real-world, you may extend this database with more advanced concepts such as triggers, views, and real-time data validation."
   ]
  }
 ],
 "metadata": {
  "kernelspec": {
   "display_name": "Python 3 (ipykernel)",
   "language": "python",
   "name": "python3"
  },
  "language_info": {
   "codemirror_mode": {
    "name": "ipython",
    "version": 3
   },
   "file_extension": ".py",
   "mimetype": "text/x-python",
   "name": "python",
   "nbconvert_exporter": "python",
   "pygments_lexer": "ipython3",
   "version": "3.10.10"
  }
 },
 "nbformat": 4,
 "nbformat_minor": 5
}
