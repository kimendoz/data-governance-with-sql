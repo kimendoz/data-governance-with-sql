{
 "cells": [
  {
   "cell_type": "markdown",
   "id": "76f561d2",
   "metadata": {},
   "source": [
    "# 📘 Data Governance with SQL\n",
    "\n",
    "This notebook demonstrates how to use SQL to build a simple employee management database. It emphasizes data governance principles such as referential integrity, data validation, and clean schema design.\n",
    "\n",
    "We use Python to communicate with the SQLite database and to print results in a readable format. However, all data creation, retrieval, and manipulation are done through SQL. This setup allows us to focus on learning SQL while using Python as a convenient interface."
   ]
  },
  {
   "cell_type": "code",
   "execution_count": 1,
   "id": "68b2073f-75b4-4b53-97f6-ef75a93023f1",
   "metadata": {},
   "outputs": [],
   "source": [
    "# We use sqlite3 to interact with the database \n",
    "# and pandas to format query results as tables\n",
    "import sqlite3\n",
    "import pandas as pd"
   ]
  },
  {
   "cell_type": "markdown",
   "id": "65edf234",
   "metadata": {},
   "source": [
    "## 🧱 1. Initialize a SQLite Database"
   ]
  },
  {
   "cell_type": "markdown",
   "id": "176f1067",
   "metadata": {},
   "source": [
    "SQLite is a lightweight and self-contained relational database engine. Unlike traditional database systems that require a separate server process, SQLite stores all data in a single file on disk and runs directly within the application that accesses it. Because of its simplicity and zero-configuration setup, SQLite is widely used in embedded systems, mobile apps, and teaching environments.\n",
    "\n",
    "In this section, we create an in-memory SQLite database and set up a cursor object to execute SQL commands. This temporary database exists only while the notebook is running, making it ideal for experimentation and instruction."
   ]
  },
  {
   "cell_type": "code",
   "execution_count": 2,
   "id": "8351e5f7-c1e1-4943-b11a-e3bf730b5978",
   "metadata": {},
   "outputs": [],
   "source": [
    "# Connect to an in-memory SQLite database\n",
    "con = sqlite3.connect(':memory:')\n",
    "\n",
    "# Create a cursor object to execute SQL commands\n",
    "cur = con.cursor()"
   ]
  },
  {
   "cell_type": "markdown",
   "id": "1798c4bf",
   "metadata": {},
   "source": [
    "## 🛠️ 2. Define SQL Execution Helper Functions"
   ]
  },
  {
   "cell_type": "markdown",
   "id": "f34a6e25",
   "metadata": {},
   "source": [
    "This section defines reusable helper functions that let us execute SQL scripts and queries from files or strings. You don't need to modify or deeply understand this code. These are just functions to run SQL queries or scripts throughout the notebook."
   ]
  },
  {
   "cell_type": "code",
   "execution_count": 3,
   "id": "d2511ad0-a17b-45c2-b7ee-29442d579745",
   "metadata": {},
   "outputs": [],
   "source": [
    "# Define a helper function to execute a SQL script inside a file\n",
    "def execute_sql_script_from_file(filepath):\n",
    "    try:\n",
    "        with open(filepath, 'r') as f:\n",
    "            sql_script = f.read()\n",
    "\n",
    "        print(f'🖥 Executing SQL script from file {filepath}')\n",
    "        cur.executescript(sql_script)\n",
    "        print(f\"✅ Successfully executed SQL script from file {filepath}\")\n",
    "    except Exception as e:\n",
    "        print(f\"❌ An error occurred: {e}\")\n",
    "\n",
    "\n",
    "# Define a helper function to execute a SQL query string\n",
    "def execute_sql_query(query):\n",
    "    try:\n",
    "        # Execute the query\n",
    "        cur.execute(query)\n",
    "\n",
    "        if cur.description is not None:\n",
    "            # Fetch all rows and column names\n",
    "            rows = cur.fetchall()\n",
    "            column_names = [description[0] for description in cur.description]\n",
    "    \n",
    "            if rows:\n",
    "                print(f\"✅ Query executed successfully. {len(rows)} row{'s' if len(rows) >= 2 else ''} to display.\")\n",
    "            else:\n",
    "                print(\"✅ Query executed successfully. No results to display.\")\n",
    "    \n",
    "            df = pd.DataFrame(rows, columns=column_names)\n",
    "            df_sql_output_style = df.style.format(na_rep='NULL').hide(axis='index')\n",
    "            display(df_sql_output_style)\n",
    "        else:\n",
    "            # For INSERT, UPDATE, DELETE, etc.\n",
    "            print(\"✅ Query executed successfully. No results to display.\")\n",
    "    except sqlite3.Error as e:\n",
    "        print(f\"❌ An error occurred: {e}\")\n",
    "\n",
    "# Define a helper function to execute a SQL query inside a file\n",
    "def execute_sql_query_from_file(filepath):\n",
    "        with open(filepath, 'r') as f:\n",
    "            query_string = f.read()\n",
    "\n",
    "            print(f'🖥 Executing SQL query from file {filepath}')\n",
    "            execute_sql_query(query_string)\n"
   ]
  },
  {
   "cell_type": "markdown",
   "id": "a421afd1",
   "metadata": {},
   "source": [
    "## 🗂️ 3. Create and Populate Database Tables"
   ]
  },
  {
   "cell_type": "markdown",
   "id": "5e0fd5e6",
   "metadata": {},
   "source": [
    "### 3.1 Create tables using SQL scripts\n",
    "\n",
    "The SQL statements that define our database schema are stored in a **separate `.sql` script file**. This file contains the full `CREATE TABLE` commands for `departments`, `job_titles`, and `employees`, including all primary keys, foreign keys, and check constraints. In this notebook, we simply execute that script using a helper function. If you'd like to view, edit, or study the SQL in detail, you can open the file named `sql-scripts/setup_create_tables.sql` directly in your Jupyter notebook environment or a code editor."
   ]
  },
  {
   "cell_type": "code",
   "execution_count": 4,
   "id": "e1308502-8e42-49f9-b0ad-22f9a4f2af07",
   "metadata": {},
   "outputs": [
    {
     "name": "stdout",
     "output_type": "stream",
     "text": [
      "🖥 Executing SQL script from file ./sql-scripts/setup_create_tables.sql\n",
      "✅ Successfully executed SQL script from file ./sql-scripts/setup_create_tables.sql\n"
     ]
    }
   ],
   "source": [
    "execute_sql_script_from_file('./sql-scripts/setup_create_tables.sql')"
   ]
  },
  {
   "cell_type": "markdown",
   "id": "77cf32d1-a3e6-4a1f-a55e-f5caf28128d3",
   "metadata": {},
   "source": [
    "### 3.2 Populate tables with sample rows using SQL scripts"
   ]
  },
  {
   "cell_type": "code",
   "execution_count": 5,
   "id": "c39e0bf4-3176-478a-a962-77e3e1425d9f",
   "metadata": {},
   "outputs": [
    {
     "name": "stdout",
     "output_type": "stream",
     "text": [
      "🖥 Executing SQL script from file ./sql-scripts/setup_populate_tables.sql\n",
      "✅ Successfully executed SQL script from file ./sql-scripts/setup_populate_tables.sql\n"
     ]
    }
   ],
   "source": [
    "execute_sql_script_from_file('./sql-scripts/setup_populate_tables.sql')"
   ]
  },
  {
   "cell_type": "markdown",
   "id": "d970611d-86f4-48f5-8fc5-b11a60d556e1",
   "metadata": {},
   "source": [
    "### 3.3 Print (query) all tables within the database"
   ]
  },
  {
   "cell_type": "code",
   "execution_count": 6,
   "id": "13632e03-672d-4d5f-8dc9-3663afaeea27",
   "metadata": {},
   "outputs": [
    {
     "name": "stdout",
     "output_type": "stream",
     "text": [
      "✅ Query executed successfully. 3 rows to display.\n"
     ]
    },
    {
     "data": {
      "text/html": [
       "<style type=\"text/css\">\n",
       "</style>\n",
       "<table id=\"T_559e1\">\n",
       "  <thead>\n",
       "    <tr>\n",
       "      <th id=\"T_559e1_level0_col0\" class=\"col_heading level0 col0\" >type</th>\n",
       "      <th id=\"T_559e1_level0_col1\" class=\"col_heading level0 col1\" >tbl_name</th>\n",
       "    </tr>\n",
       "  </thead>\n",
       "  <tbody>\n",
       "    <tr>\n",
       "      <td id=\"T_559e1_row0_col0\" class=\"data row0 col0\" >table</td>\n",
       "      <td id=\"T_559e1_row0_col1\" class=\"data row0 col1\" >departments</td>\n",
       "    </tr>\n",
       "    <tr>\n",
       "      <td id=\"T_559e1_row1_col0\" class=\"data row1 col0\" >table</td>\n",
       "      <td id=\"T_559e1_row1_col1\" class=\"data row1 col1\" >job_titles</td>\n",
       "    </tr>\n",
       "    <tr>\n",
       "      <td id=\"T_559e1_row2_col0\" class=\"data row2 col0\" >table</td>\n",
       "      <td id=\"T_559e1_row2_col1\" class=\"data row2 col1\" >employees</td>\n",
       "    </tr>\n",
       "  </tbody>\n",
       "</table>\n"
      ],
      "text/plain": [
       "<pandas.io.formats.style.Styler at 0x7519ba2dbb80>"
      ]
     },
     "metadata": {},
     "output_type": "display_data"
    }
   ],
   "source": [
    "execute_sql_query('SELECT type, tbl_name FROM sqlite_master WHERE type=\"table\";')"
   ]
  },
  {
   "cell_type": "markdown",
   "id": "e05b3f80-82b3-44ea-bf0b-c6003bc7b3fe",
   "metadata": {},
   "source": [
    "### 3.4 Query all departments"
   ]
  },
  {
   "cell_type": "code",
   "execution_count": 7,
   "id": "1954117c-69d4-40e9-bc00-c32900f155e6",
   "metadata": {},
   "outputs": [
    {
     "name": "stdout",
     "output_type": "stream",
     "text": [
      "✅ Query executed successfully. 7 rows to display.\n"
     ]
    },
    {
     "data": {
      "text/html": [
       "<style type=\"text/css\">\n",
       "</style>\n",
       "<table id=\"T_fb7b0\">\n",
       "  <thead>\n",
       "    <tr>\n",
       "      <th id=\"T_fb7b0_level0_col0\" class=\"col_heading level0 col0\" >department_id</th>\n",
       "      <th id=\"T_fb7b0_level0_col1\" class=\"col_heading level0 col1\" >department_name</th>\n",
       "    </tr>\n",
       "  </thead>\n",
       "  <tbody>\n",
       "    <tr>\n",
       "      <td id=\"T_fb7b0_row0_col0\" class=\"data row0 col0\" >1</td>\n",
       "      <td id=\"T_fb7b0_row0_col1\" class=\"data row0 col1\" >Engineering</td>\n",
       "    </tr>\n",
       "    <tr>\n",
       "      <td id=\"T_fb7b0_row1_col0\" class=\"data row1 col0\" >2</td>\n",
       "      <td id=\"T_fb7b0_row1_col1\" class=\"data row1 col1\" >Human Resources</td>\n",
       "    </tr>\n",
       "    <tr>\n",
       "      <td id=\"T_fb7b0_row2_col0\" class=\"data row2 col0\" >3</td>\n",
       "      <td id=\"T_fb7b0_row2_col1\" class=\"data row2 col1\" >Marketing</td>\n",
       "    </tr>\n",
       "    <tr>\n",
       "      <td id=\"T_fb7b0_row3_col0\" class=\"data row3 col0\" >4</td>\n",
       "      <td id=\"T_fb7b0_row3_col1\" class=\"data row3 col1\" >Finance</td>\n",
       "    </tr>\n",
       "    <tr>\n",
       "      <td id=\"T_fb7b0_row4_col0\" class=\"data row4 col0\" >5</td>\n",
       "      <td id=\"T_fb7b0_row4_col1\" class=\"data row4 col1\" >Operations</td>\n",
       "    </tr>\n",
       "    <tr>\n",
       "      <td id=\"T_fb7b0_row5_col0\" class=\"data row5 col0\" >6</td>\n",
       "      <td id=\"T_fb7b0_row5_col1\" class=\"data row5 col1\" >Sales</td>\n",
       "    </tr>\n",
       "    <tr>\n",
       "      <td id=\"T_fb7b0_row6_col0\" class=\"data row6 col0\" >7</td>\n",
       "      <td id=\"T_fb7b0_row6_col1\" class=\"data row6 col1\" >Legal</td>\n",
       "    </tr>\n",
       "  </tbody>\n",
       "</table>\n"
      ],
      "text/plain": [
       "<pandas.io.formats.style.Styler at 0x7519b8906350>"
      ]
     },
     "metadata": {},
     "output_type": "display_data"
    }
   ],
   "source": [
    "execute_sql_query('SELECT * FROM departments;')"
   ]
  },
  {
   "cell_type": "markdown",
   "id": "d044d2fc-dc4d-4402-aa04-bc36983e3639",
   "metadata": {},
   "source": [
    "### 3.5 Query all job titles"
   ]
  },
  {
   "cell_type": "code",
   "execution_count": 8,
   "id": "e923bb6f-dcc2-4623-b691-019e6ffaa969",
   "metadata": {},
   "outputs": [
    {
     "name": "stdout",
     "output_type": "stream",
     "text": [
      "✅ Query executed successfully. 16 rows to display.\n"
     ]
    },
    {
     "data": {
      "text/html": [
       "<style type=\"text/css\">\n",
       "</style>\n",
       "<table id=\"T_794d6\">\n",
       "  <thead>\n",
       "    <tr>\n",
       "      <th id=\"T_794d6_level0_col0\" class=\"col_heading level0 col0\" >job_title_id</th>\n",
       "      <th id=\"T_794d6_level0_col1\" class=\"col_heading level0 col1\" >job_title</th>\n",
       "    </tr>\n",
       "  </thead>\n",
       "  <tbody>\n",
       "    <tr>\n",
       "      <td id=\"T_794d6_row0_col0\" class=\"data row0 col0\" >1</td>\n",
       "      <td id=\"T_794d6_row0_col1\" class=\"data row0 col1\" >Software Engineer</td>\n",
       "    </tr>\n",
       "    <tr>\n",
       "      <td id=\"T_794d6_row1_col0\" class=\"data row1 col0\" >2</td>\n",
       "      <td id=\"T_794d6_row1_col1\" class=\"data row1 col1\" >Senior Software Engineer</td>\n",
       "    </tr>\n",
       "    <tr>\n",
       "      <td id=\"T_794d6_row2_col0\" class=\"data row2 col0\" >3</td>\n",
       "      <td id=\"T_794d6_row2_col1\" class=\"data row2 col1\" >HR Specialist</td>\n",
       "    </tr>\n",
       "    <tr>\n",
       "      <td id=\"T_794d6_row3_col0\" class=\"data row3 col0\" >4</td>\n",
       "      <td id=\"T_794d6_row3_col1\" class=\"data row3 col1\" >HR Assistant</td>\n",
       "    </tr>\n",
       "    <tr>\n",
       "      <td id=\"T_794d6_row4_col0\" class=\"data row4 col0\" >5</td>\n",
       "      <td id=\"T_794d6_row4_col1\" class=\"data row4 col1\" >Talent Acquisition Specialist</td>\n",
       "    </tr>\n",
       "    <tr>\n",
       "      <td id=\"T_794d6_row5_col0\" class=\"data row5 col0\" >6</td>\n",
       "      <td id=\"T_794d6_row5_col1\" class=\"data row5 col1\" >SEO Specialist</td>\n",
       "    </tr>\n",
       "    <tr>\n",
       "      <td id=\"T_794d6_row6_col0\" class=\"data row6 col0\" >7</td>\n",
       "      <td id=\"T_794d6_row6_col1\" class=\"data row6 col1\" >Marketing Analyst</td>\n",
       "    </tr>\n",
       "    <tr>\n",
       "      <td id=\"T_794d6_row7_col0\" class=\"data row7 col0\" >8</td>\n",
       "      <td id=\"T_794d6_row7_col1\" class=\"data row7 col1\" >Digital Marketing Associate</td>\n",
       "    </tr>\n",
       "    <tr>\n",
       "      <td id=\"T_794d6_row8_col0\" class=\"data row8 col0\" >9</td>\n",
       "      <td id=\"T_794d6_row8_col1\" class=\"data row8 col1\" >Financial Analyst</td>\n",
       "    </tr>\n",
       "    <tr>\n",
       "      <td id=\"T_794d6_row9_col0\" class=\"data row9 col0\" >10</td>\n",
       "      <td id=\"T_794d6_row9_col1\" class=\"data row9 col1\" >Budget Analyst</td>\n",
       "    </tr>\n",
       "    <tr>\n",
       "      <td id=\"T_794d6_row10_col0\" class=\"data row10 col0\" >11</td>\n",
       "      <td id=\"T_794d6_row10_col1\" class=\"data row10 col1\" >Operations Associate</td>\n",
       "    </tr>\n",
       "    <tr>\n",
       "      <td id=\"T_794d6_row11_col0\" class=\"data row11 col0\" >12</td>\n",
       "      <td id=\"T_794d6_row11_col1\" class=\"data row11 col1\" >Operations Manager</td>\n",
       "    </tr>\n",
       "    <tr>\n",
       "      <td id=\"T_794d6_row12_col0\" class=\"data row12 col0\" >13</td>\n",
       "      <td id=\"T_794d6_row12_col1\" class=\"data row12 col1\" >Sales Associate</td>\n",
       "    </tr>\n",
       "    <tr>\n",
       "      <td id=\"T_794d6_row13_col0\" class=\"data row13 col0\" >14</td>\n",
       "      <td id=\"T_794d6_row13_col1\" class=\"data row13 col1\" >Sales Manager</td>\n",
       "    </tr>\n",
       "    <tr>\n",
       "      <td id=\"T_794d6_row14_col0\" class=\"data row14 col0\" >15</td>\n",
       "      <td id=\"T_794d6_row14_col1\" class=\"data row14 col1\" >Legal Counsel</td>\n",
       "    </tr>\n",
       "    <tr>\n",
       "      <td id=\"T_794d6_row15_col0\" class=\"data row15 col0\" >16</td>\n",
       "      <td id=\"T_794d6_row15_col1\" class=\"data row15 col1\" >Paralegal</td>\n",
       "    </tr>\n",
       "  </tbody>\n",
       "</table>\n"
      ],
      "text/plain": [
       "<pandas.io.formats.style.Styler at 0x7519ba3224d0>"
      ]
     },
     "metadata": {},
     "output_type": "display_data"
    }
   ],
   "source": [
    "execute_sql_query('SELECT * FROM job_titles;')"
   ]
  },
  {
   "cell_type": "markdown",
   "id": "e4bf61da-b046-4077-8909-97a3948c7536",
   "metadata": {},
   "source": [
    "### 3.6 Query first 10 rows in the employees table"
   ]
  },
  {
   "cell_type": "code",
   "execution_count": 9,
   "id": "31936047-fdc9-4102-ad07-46e8becc7d3c",
   "metadata": {},
   "outputs": [
    {
     "name": "stdout",
     "output_type": "stream",
     "text": [
      "✅ Query executed successfully. 10 rows to display.\n"
     ]
    },
    {
     "data": {
      "text/html": [
       "<style type=\"text/css\">\n",
       "</style>\n",
       "<table id=\"T_515bb\">\n",
       "  <thead>\n",
       "    <tr>\n",
       "      <th id=\"T_515bb_level0_col0\" class=\"col_heading level0 col0\" >employee_id</th>\n",
       "      <th id=\"T_515bb_level0_col1\" class=\"col_heading level0 col1\" >full_name</th>\n",
       "      <th id=\"T_515bb_level0_col2\" class=\"col_heading level0 col2\" >start_date</th>\n",
       "      <th id=\"T_515bb_level0_col3\" class=\"col_heading level0 col3\" >end_date</th>\n",
       "      <th id=\"T_515bb_level0_col4\" class=\"col_heading level0 col4\" >department_id</th>\n",
       "      <th id=\"T_515bb_level0_col5\" class=\"col_heading level0 col5\" >job_title_id</th>\n",
       "      <th id=\"T_515bb_level0_col6\" class=\"col_heading level0 col6\" >status</th>\n",
       "      <th id=\"T_515bb_level0_col7\" class=\"col_heading level0 col7\" >pay_type</th>\n",
       "      <th id=\"T_515bb_level0_col8\" class=\"col_heading level0 col8\" >pay_rate</th>\n",
       "    </tr>\n",
       "  </thead>\n",
       "  <tbody>\n",
       "    <tr>\n",
       "      <td id=\"T_515bb_row0_col0\" class=\"data row0 col0\" >101</td>\n",
       "      <td id=\"T_515bb_row0_col1\" class=\"data row0 col1\" >Eric Hodges</td>\n",
       "      <td id=\"T_515bb_row0_col2\" class=\"data row0 col2\" >2020-09-25</td>\n",
       "      <td id=\"T_515bb_row0_col3\" class=\"data row0 col3\" >2024-01-01</td>\n",
       "      <td id=\"T_515bb_row0_col4\" class=\"data row0 col4\" >6</td>\n",
       "      <td id=\"T_515bb_row0_col5\" class=\"data row0 col5\" >13</td>\n",
       "      <td id=\"T_515bb_row0_col6\" class=\"data row0 col6\" >Terminated</td>\n",
       "      <td id=\"T_515bb_row0_col7\" class=\"data row0 col7\" >Hourly</td>\n",
       "      <td id=\"T_515bb_row0_col8\" class=\"data row0 col8\" >84184.600000</td>\n",
       "    </tr>\n",
       "    <tr>\n",
       "      <td id=\"T_515bb_row1_col0\" class=\"data row1 col0\" >102</td>\n",
       "      <td id=\"T_515bb_row1_col1\" class=\"data row1 col1\" >Geoffrey Alexander</td>\n",
       "      <td id=\"T_515bb_row1_col2\" class=\"data row1 col2\" >2024-07-04</td>\n",
       "      <td id=\"T_515bb_row1_col3\" class=\"data row1 col3\" >NULL</td>\n",
       "      <td id=\"T_515bb_row1_col4\" class=\"data row1 col4\" >1</td>\n",
       "      <td id=\"T_515bb_row1_col5\" class=\"data row1 col5\" >1</td>\n",
       "      <td id=\"T_515bb_row1_col6\" class=\"data row1 col6\" >Active</td>\n",
       "      <td id=\"T_515bb_row1_col7\" class=\"data row1 col7\" >Salary</td>\n",
       "      <td id=\"T_515bb_row1_col8\" class=\"data row1 col8\" >101563.780000</td>\n",
       "    </tr>\n",
       "    <tr>\n",
       "      <td id=\"T_515bb_row2_col0\" class=\"data row2 col0\" >103</td>\n",
       "      <td id=\"T_515bb_row2_col1\" class=\"data row2 col1\" >Audrey Simpson</td>\n",
       "      <td id=\"T_515bb_row2_col2\" class=\"data row2 col2\" >2023-07-06</td>\n",
       "      <td id=\"T_515bb_row2_col3\" class=\"data row2 col3\" >NULL</td>\n",
       "      <td id=\"T_515bb_row2_col4\" class=\"data row2 col4\" >2</td>\n",
       "      <td id=\"T_515bb_row2_col5\" class=\"data row2 col5\" >5</td>\n",
       "      <td id=\"T_515bb_row2_col6\" class=\"data row2 col6\" >Active</td>\n",
       "      <td id=\"T_515bb_row2_col7\" class=\"data row2 col7\" >Hourly</td>\n",
       "      <td id=\"T_515bb_row2_col8\" class=\"data row2 col8\" >27.620000</td>\n",
       "    </tr>\n",
       "    <tr>\n",
       "      <td id=\"T_515bb_row3_col0\" class=\"data row3 col0\" >104</td>\n",
       "      <td id=\"T_515bb_row3_col1\" class=\"data row3 col1\" >Caleb Villegas</td>\n",
       "      <td id=\"T_515bb_row3_col2\" class=\"data row3 col2\" >2022-09-10</td>\n",
       "      <td id=\"T_515bb_row3_col3\" class=\"data row3 col3\" >NULL</td>\n",
       "      <td id=\"T_515bb_row3_col4\" class=\"data row3 col4\" >2</td>\n",
       "      <td id=\"T_515bb_row3_col5\" class=\"data row3 col5\" >4</td>\n",
       "      <td id=\"T_515bb_row3_col6\" class=\"data row3 col6\" >Active</td>\n",
       "      <td id=\"T_515bb_row3_col7\" class=\"data row3 col7\" >Salary</td>\n",
       "      <td id=\"T_515bb_row3_col8\" class=\"data row3 col8\" >45047.960000</td>\n",
       "    </tr>\n",
       "    <tr>\n",
       "      <td id=\"T_515bb_row4_col0\" class=\"data row4 col0\" >105</td>\n",
       "      <td id=\"T_515bb_row4_col1\" class=\"data row4 col1\" >Joseph Garcia</td>\n",
       "      <td id=\"T_515bb_row4_col2\" class=\"data row4 col2\" >2023-06-24</td>\n",
       "      <td id=\"T_515bb_row4_col3\" class=\"data row4 col3\" >NULL</td>\n",
       "      <td id=\"T_515bb_row4_col4\" class=\"data row4 col4\" >5</td>\n",
       "      <td id=\"T_515bb_row4_col5\" class=\"data row4 col5\" >12</td>\n",
       "      <td id=\"T_515bb_row4_col6\" class=\"data row4 col6\" >Active</td>\n",
       "      <td id=\"T_515bb_row4_col7\" class=\"data row4 col7\" >Salary</td>\n",
       "      <td id=\"T_515bb_row4_col8\" class=\"data row4 col8\" >71637.900000</td>\n",
       "    </tr>\n",
       "    <tr>\n",
       "      <td id=\"T_515bb_row5_col0\" class=\"data row5 col0\" >106</td>\n",
       "      <td id=\"T_515bb_row5_col1\" class=\"data row5 col1\" >Jerry Hughes</td>\n",
       "      <td id=\"T_515bb_row5_col2\" class=\"data row5 col2\" >2022-01-17</td>\n",
       "      <td id=\"T_515bb_row5_col3\" class=\"data row5 col3\" >NULL</td>\n",
       "      <td id=\"T_515bb_row5_col4\" class=\"data row5 col4\" >2</td>\n",
       "      <td id=\"T_515bb_row5_col5\" class=\"data row5 col5\" >3</td>\n",
       "      <td id=\"T_515bb_row5_col6\" class=\"data row5 col6\" >Active</td>\n",
       "      <td id=\"T_515bb_row5_col7\" class=\"data row5 col7\" >Salary</td>\n",
       "      <td id=\"T_515bb_row5_col8\" class=\"data row5 col8\" >37023.220000</td>\n",
       "    </tr>\n",
       "    <tr>\n",
       "      <td id=\"T_515bb_row6_col0\" class=\"data row6 col0\" >107</td>\n",
       "      <td id=\"T_515bb_row6_col1\" class=\"data row6 col1\" >Matthew Cook</td>\n",
       "      <td id=\"T_515bb_row6_col2\" class=\"data row6 col2\" >2024-05-19</td>\n",
       "      <td id=\"T_515bb_row6_col3\" class=\"data row6 col3\" >2024-11-24</td>\n",
       "      <td id=\"T_515bb_row6_col4\" class=\"data row6 col4\" >6</td>\n",
       "      <td id=\"T_515bb_row6_col5\" class=\"data row6 col5\" >13</td>\n",
       "      <td id=\"T_515bb_row6_col6\" class=\"data row6 col6\" >Terminated</td>\n",
       "      <td id=\"T_515bb_row6_col7\" class=\"data row6 col7\" >Salary</td>\n",
       "      <td id=\"T_515bb_row6_col8\" class=\"data row6 col8\" >135151.400000</td>\n",
       "    </tr>\n",
       "    <tr>\n",
       "      <td id=\"T_515bb_row7_col0\" class=\"data row7 col0\" >108</td>\n",
       "      <td id=\"T_515bb_row7_col1\" class=\"data row7 col1\" >Jessica Gray</td>\n",
       "      <td id=\"T_515bb_row7_col2\" class=\"data row7 col2\" >2022-09-22</td>\n",
       "      <td id=\"T_515bb_row7_col3\" class=\"data row7 col3\" >NULL</td>\n",
       "      <td id=\"T_515bb_row7_col4\" class=\"data row7 col4\" >2</td>\n",
       "      <td id=\"T_515bb_row7_col5\" class=\"data row7 col5\" >3</td>\n",
       "      <td id=\"T_515bb_row7_col6\" class=\"data row7 col6\" >Active</td>\n",
       "      <td id=\"T_515bb_row7_col7\" class=\"data row7 col7\" >Salary</td>\n",
       "      <td id=\"T_515bb_row7_col8\" class=\"data row7 col8\" >35909.920000</td>\n",
       "    </tr>\n",
       "    <tr>\n",
       "      <td id=\"T_515bb_row8_col0\" class=\"data row8 col0\" >109</td>\n",
       "      <td id=\"T_515bb_row8_col1\" class=\"data row8 col1\" >Holly Beard PhD</td>\n",
       "      <td id=\"T_515bb_row8_col2\" class=\"data row8 col2\" >2025-01-27</td>\n",
       "      <td id=\"T_515bb_row8_col3\" class=\"data row8 col3\" >2025-06-09</td>\n",
       "      <td id=\"T_515bb_row8_col4\" class=\"data row8 col4\" >4</td>\n",
       "      <td id=\"T_515bb_row8_col5\" class=\"data row8 col5\" >10</td>\n",
       "      <td id=\"T_515bb_row8_col6\" class=\"data row8 col6\" >Terminated</td>\n",
       "      <td id=\"T_515bb_row8_col7\" class=\"data row8 col7\" >Salary</td>\n",
       "      <td id=\"T_515bb_row8_col8\" class=\"data row8 col8\" >67122.570000</td>\n",
       "    </tr>\n",
       "    <tr>\n",
       "      <td id=\"T_515bb_row9_col0\" class=\"data row9 col0\" >110</td>\n",
       "      <td id=\"T_515bb_row9_col1\" class=\"data row9 col1\" >Michelle Hall</td>\n",
       "      <td id=\"T_515bb_row9_col2\" class=\"data row9 col2\" >2024-07-26</td>\n",
       "      <td id=\"T_515bb_row9_col3\" class=\"data row9 col3\" >NULL</td>\n",
       "      <td id=\"T_515bb_row9_col4\" class=\"data row9 col4\" >4</td>\n",
       "      <td id=\"T_515bb_row9_col5\" class=\"data row9 col5\" >10</td>\n",
       "      <td id=\"T_515bb_row9_col6\" class=\"data row9 col6\" >Active</td>\n",
       "      <td id=\"T_515bb_row9_col7\" class=\"data row9 col7\" >Salary</td>\n",
       "      <td id=\"T_515bb_row9_col8\" class=\"data row9 col8\" >91859.680000</td>\n",
       "    </tr>\n",
       "  </tbody>\n",
       "</table>\n"
      ],
      "text/plain": [
       "<pandas.io.formats.style.Styler at 0x7519ba3224d0>"
      ]
     },
     "metadata": {},
     "output_type": "display_data"
    }
   ],
   "source": [
    "execute_sql_query('SELECT * FROM employees LIMIT 10;')"
   ]
  },
  {
   "cell_type": "markdown",
   "id": "b4903598-1aa5-4ead-ae7a-318620a7c4b0",
   "metadata": {},
   "source": [
    "## 🔍 4. Using SQL to Retrieve Information with Data Governance in Mind"
   ]
  },
  {
   "cell_type": "markdown",
   "id": "01de9523-06a2-4caa-b663-b1056a174b32",
   "metadata": {},
   "source": [
    "### 4.1 Report on-boarding employees and mask sensitive data \n",
    "\n",
    "- Open the SQL file at `sql-scripts/4_1_all_onboarding_employees.sql` and write a query that meets the requirements below.\n",
    "- List all employees who are currently in the \"On-boarding\" status.\n",
    "- Display each employee's full name, start date, department name, job title, pay type, and status.\n",
    "- Instead of showing the actual pay rate, display the word \"HIDDEN\" in the pay_rate column.\n",
    "- Use joins to combine data from the `employees`, `departments`, and `job_titles` tables.\n",
    "- Sorting is not required.\n",
    "- **Data Governance Note:** The `pay_rate` column contains sensitive compensation data. In accordance with data governance policies, sensitive information like salary should be masked or excluded from general reporting queries unless access is explicitly authorized."
   ]
  },
  {
   "cell_type": "code",
   "execution_count": 10,
   "id": "c3a66e32-8881-494d-8cd7-3ab031f33384",
   "metadata": {},
   "outputs": [
    {
     "name": "stdout",
     "output_type": "stream",
     "text": [
      "🖥 Executing SQL query from file ./sql-scripts/4_1_all_onboarding_employees.sql\n",
      "✅ Query executed successfully. 5 rows to display.\n"
     ]
    },
    {
     "data": {
      "text/html": [
       "<style type=\"text/css\">\n",
       "</style>\n",
       "<table id=\"T_e94ac\">\n",
       "  <thead>\n",
       "    <tr>\n",
       "      <th id=\"T_e94ac_level0_col0\" class=\"col_heading level0 col0\" >full_name</th>\n",
       "      <th id=\"T_e94ac_level0_col1\" class=\"col_heading level0 col1\" >start_date</th>\n",
       "      <th id=\"T_e94ac_level0_col2\" class=\"col_heading level0 col2\" >department_name</th>\n",
       "      <th id=\"T_e94ac_level0_col3\" class=\"col_heading level0 col3\" >job_title</th>\n",
       "      <th id=\"T_e94ac_level0_col4\" class=\"col_heading level0 col4\" >pay_type</th>\n",
       "      <th id=\"T_e94ac_level0_col5\" class=\"col_heading level0 col5\" >pay_rate</th>\n",
       "      <th id=\"T_e94ac_level0_col6\" class=\"col_heading level0 col6\" >status</th>\n",
       "    </tr>\n",
       "  </thead>\n",
       "  <tbody>\n",
       "    <tr>\n",
       "      <td id=\"T_e94ac_row0_col0\" class=\"data row0 col0\" >Karen Williams</td>\n",
       "      <td id=\"T_e94ac_row0_col1\" class=\"data row0 col1\" >2022-07-25</td>\n",
       "      <td id=\"T_e94ac_row0_col2\" class=\"data row0 col2\" >Human Resources</td>\n",
       "      <td id=\"T_e94ac_row0_col3\" class=\"data row0 col3\" >HR Specialist</td>\n",
       "      <td id=\"T_e94ac_row0_col4\" class=\"data row0 col4\" >Salary</td>\n",
       "      <td id=\"T_e94ac_row0_col5\" class=\"data row0 col5\" >HIDDEN</td>\n",
       "      <td id=\"T_e94ac_row0_col6\" class=\"data row0 col6\" >On-boarding</td>\n",
       "    </tr>\n",
       "    <tr>\n",
       "      <td id=\"T_e94ac_row1_col0\" class=\"data row1 col0\" >Randy Perez</td>\n",
       "      <td id=\"T_e94ac_row1_col1\" class=\"data row1 col1\" >2024-12-06</td>\n",
       "      <td id=\"T_e94ac_row1_col2\" class=\"data row1 col2\" >Finance</td>\n",
       "      <td id=\"T_e94ac_row1_col3\" class=\"data row1 col3\" >Financial Analyst</td>\n",
       "      <td id=\"T_e94ac_row1_col4\" class=\"data row1 col4\" >Salary</td>\n",
       "      <td id=\"T_e94ac_row1_col5\" class=\"data row1 col5\" >HIDDEN</td>\n",
       "      <td id=\"T_e94ac_row1_col6\" class=\"data row1 col6\" >On-boarding</td>\n",
       "    </tr>\n",
       "    <tr>\n",
       "      <td id=\"T_e94ac_row2_col0\" class=\"data row2 col0\" >Joseph Silva</td>\n",
       "      <td id=\"T_e94ac_row2_col1\" class=\"data row2 col1\" >2020-11-05</td>\n",
       "      <td id=\"T_e94ac_row2_col2\" class=\"data row2 col2\" >Sales</td>\n",
       "      <td id=\"T_e94ac_row2_col3\" class=\"data row2 col3\" >Sales Manager</td>\n",
       "      <td id=\"T_e94ac_row2_col4\" class=\"data row2 col4\" >Salary</td>\n",
       "      <td id=\"T_e94ac_row2_col5\" class=\"data row2 col5\" >HIDDEN</td>\n",
       "      <td id=\"T_e94ac_row2_col6\" class=\"data row2 col6\" >On-boarding</td>\n",
       "    </tr>\n",
       "    <tr>\n",
       "      <td id=\"T_e94ac_row3_col0\" class=\"data row3 col0\" >Shannon Bradley</td>\n",
       "      <td id=\"T_e94ac_row3_col1\" class=\"data row3 col1\" >2025-06-15</td>\n",
       "      <td id=\"T_e94ac_row3_col2\" class=\"data row3 col2\" >Marketing</td>\n",
       "      <td id=\"T_e94ac_row3_col3\" class=\"data row3 col3\" >Marketing Analyst</td>\n",
       "      <td id=\"T_e94ac_row3_col4\" class=\"data row3 col4\" >Salary</td>\n",
       "      <td id=\"T_e94ac_row3_col5\" class=\"data row3 col5\" >HIDDEN</td>\n",
       "      <td id=\"T_e94ac_row3_col6\" class=\"data row3 col6\" >On-boarding</td>\n",
       "    </tr>\n",
       "    <tr>\n",
       "      <td id=\"T_e94ac_row4_col0\" class=\"data row4 col0\" >Nichole Greer</td>\n",
       "      <td id=\"T_e94ac_row4_col1\" class=\"data row4 col1\" >2025-05-31</td>\n",
       "      <td id=\"T_e94ac_row4_col2\" class=\"data row4 col2\" >Marketing</td>\n",
       "      <td id=\"T_e94ac_row4_col3\" class=\"data row4 col3\" >Digital Marketing Associate</td>\n",
       "      <td id=\"T_e94ac_row4_col4\" class=\"data row4 col4\" >Salary</td>\n",
       "      <td id=\"T_e94ac_row4_col5\" class=\"data row4 col5\" >HIDDEN</td>\n",
       "      <td id=\"T_e94ac_row4_col6\" class=\"data row4 col6\" >On-boarding</td>\n",
       "    </tr>\n",
       "  </tbody>\n",
       "</table>\n"
      ],
      "text/plain": [
       "<pandas.io.formats.style.Styler at 0x7519b8906920>"
      ]
     },
     "metadata": {},
     "output_type": "display_data"
    }
   ],
   "source": [
    "execute_sql_query_from_file('./sql-scripts/4_1_all_onboarding_employees.sql')"
   ]
  },
  {
   "cell_type": "markdown",
   "id": "5f77d64a-5c4d-47cd-b12f-0efe03f38c95",
   "metadata": {},
   "source": [
    "### 4.2. Identify records that should be disposed or archived\n",
    "\n",
    "- Open the SQL file at `sql-scripts/4_2_identify_employee_rows_for_disposal.sql` and write a query that meets the requirements below.\n",
    "- Assume that the company's data retention policy requires that employee records terminated before 2023 should not remain in the active database.\n",
    "- List all employees who have been terminated on or before December 31, 2022.\n",
    "- Display the employee's full name, department name, end date, and status.\n",
    "- Use a join to include department information from the `departments` table.\n",
    "- Sorting is not required.\n",
    "- **Data Governance Note:** This query helps identify records that may need to be archived or deleted in accordance with the company's data retention policy."
   ]
  },
  {
   "cell_type": "code",
   "execution_count": 11,
   "id": "1d9656f2-1ea8-483f-b35c-7745160e0e46",
   "metadata": {},
   "outputs": [
    {
     "name": "stdout",
     "output_type": "stream",
     "text": [
      "🖥 Executing SQL query from file ./sql-scripts/4_2_identify_employee_rows_for_disposal.sql\n",
      "✅ Query executed successfully. 2 rows to display.\n"
     ]
    },
    {
     "data": {
      "text/html": [
       "<style type=\"text/css\">\n",
       "</style>\n",
       "<table id=\"T_0c67b\">\n",
       "  <thead>\n",
       "    <tr>\n",
       "      <th id=\"T_0c67b_level0_col0\" class=\"col_heading level0 col0\" >full_name</th>\n",
       "      <th id=\"T_0c67b_level0_col1\" class=\"col_heading level0 col1\" >department_name</th>\n",
       "      <th id=\"T_0c67b_level0_col2\" class=\"col_heading level0 col2\" >end_date</th>\n",
       "      <th id=\"T_0c67b_level0_col3\" class=\"col_heading level0 col3\" >status</th>\n",
       "    </tr>\n",
       "  </thead>\n",
       "  <tbody>\n",
       "    <tr>\n",
       "      <td id=\"T_0c67b_row0_col0\" class=\"data row0 col0\" >Michele Roach</td>\n",
       "      <td id=\"T_0c67b_row0_col1\" class=\"data row0 col1\" >Legal</td>\n",
       "      <td id=\"T_0c67b_row0_col2\" class=\"data row0 col2\" >2022-02-12</td>\n",
       "      <td id=\"T_0c67b_row0_col3\" class=\"data row0 col3\" >Terminated</td>\n",
       "    </tr>\n",
       "    <tr>\n",
       "      <td id=\"T_0c67b_row1_col0\" class=\"data row1 col0\" >Denise Pham</td>\n",
       "      <td id=\"T_0c67b_row1_col1\" class=\"data row1 col1\" >Human Resources</td>\n",
       "      <td id=\"T_0c67b_row1_col2\" class=\"data row1 col2\" >2022-07-25</td>\n",
       "      <td id=\"T_0c67b_row1_col3\" class=\"data row1 col3\" >Terminated</td>\n",
       "    </tr>\n",
       "  </tbody>\n",
       "</table>\n"
      ],
      "text/plain": [
       "<pandas.io.formats.style.Styler at 0x7519b8907940>"
      ]
     },
     "metadata": {},
     "output_type": "display_data"
    }
   ],
   "source": [
    "execute_sql_query_from_file('./sql-scripts/4_2_identify_employee_rows_for_disposal.sql')"
   ]
  },
  {
   "cell_type": "markdown",
   "id": "3482a947-9be3-4942-a11c-1c35358b8699",
   "metadata": {},
   "source": [
    "### 4.3 Check for incorrect end dates\n",
    "\n",
    "- Open the SQL file at `sql-scripts/4_3_check_end_date_anomaly.sql` and write a query that meets the requirements below.\n",
    "- Find all employees whose end date is after today's date.\n",
    "- Display the employee ID, full name, start date, end date, and status.\n",
    "- Only include employees with an end date that is later than the current date.\n",
    "- Sorting is not required.\n",
    "- **Data Governance Note:** This query helps detect potential data entry errors or anomalies, such as future termination dates. Regular checks like this support data integrity and help ensure the reliability of HR records and reporting."
   ]
  },
  {
   "cell_type": "code",
   "execution_count": 12,
   "id": "d4fa1f41-4798-4e24-a408-66c50fa46f79",
   "metadata": {},
   "outputs": [
    {
     "name": "stdout",
     "output_type": "stream",
     "text": [
      "🖥 Executing SQL query from file ./sql-scripts/4_3_check_end_date_anomaly.sql\n",
      "✅ Query executed successfully. 1 row to display.\n"
     ]
    },
    {
     "data": {
      "text/html": [
       "<style type=\"text/css\">\n",
       "</style>\n",
       "<table id=\"T_46193\">\n",
       "  <thead>\n",
       "    <tr>\n",
       "      <th id=\"T_46193_level0_col0\" class=\"col_heading level0 col0\" >employee_id</th>\n",
       "      <th id=\"T_46193_level0_col1\" class=\"col_heading level0 col1\" >full_name</th>\n",
       "      <th id=\"T_46193_level0_col2\" class=\"col_heading level0 col2\" >start_date</th>\n",
       "      <th id=\"T_46193_level0_col3\" class=\"col_heading level0 col3\" >end_date</th>\n",
       "      <th id=\"T_46193_level0_col4\" class=\"col_heading level0 col4\" >status</th>\n",
       "    </tr>\n",
       "  </thead>\n",
       "  <tbody>\n",
       "    <tr>\n",
       "      <td id=\"T_46193_row0_col0\" class=\"data row0 col0\" >150</td>\n",
       "      <td id=\"T_46193_row0_col1\" class=\"data row0 col1\" >Christopher Crane</td>\n",
       "      <td id=\"T_46193_row0_col2\" class=\"data row0 col2\" >2021-08-27</td>\n",
       "      <td id=\"T_46193_row0_col3\" class=\"data row0 col3\" >2054-05-28</td>\n",
       "      <td id=\"T_46193_row0_col4\" class=\"data row0 col4\" >Terminated</td>\n",
       "    </tr>\n",
       "  </tbody>\n",
       "</table>\n"
      ],
      "text/plain": [
       "<pandas.io.formats.style.Styler at 0x7519b8905e10>"
      ]
     },
     "metadata": {},
     "output_type": "display_data"
    }
   ],
   "source": [
    "execute_sql_query_from_file('./sql-scripts/4_3_check_end_date_anomaly.sql')"
   ]
  },
  {
   "cell_type": "markdown",
   "id": "34f7a658-75f3-4032-9e5a-b80d5dea5f69",
   "metadata": {},
   "source": [
    "🚨 Normally, this query should return no rows, because an end date in the future would be considered a data entry error. In this case, the query returned a row for employee Christopher Crane, whose `end_date` is recorded as **2054-05-28**. This likely indicates a data entry mistake (e.g., a typo when entering the year or incorrect date formatting)."
   ]
  },
  {
   "cell_type": "markdown",
   "id": "7ae15bd1-3317-421d-88c7-cf00555e0ed0",
   "metadata": {},
   "source": [
    "### 4.4 Check for potentially incorrect hourly rates\n",
    "\n",
    "- Open the SQL file at `sql-scripts/4_4_check_hourly_rate_anomaly.sql` and write a query that meets the requirements below.\n",
    "- List all employees who are paid on an hourly basis and have a pay rate greater than \\\\$10,000.\n",
    "- Display the employee ID, full name, department name, job title, status, pay type, and pay rate.\n",
    "- Use joins to combine data from the `employees`, `departments`, and `job_titles` tables.\n",
    "- Sorting is not required.\n",
    "- **Data Governance Note:** This query can help identify potentially incorrect or outlier hourly pay rates, which may signal data entry errors or policy violations. Regular checks like this support data quality monitoring by helping ensure that compensation data remains accurate, consistent, and compliant with organizational policies."
   ]
  },
  {
   "cell_type": "code",
   "execution_count": 13,
   "id": "21cf9985-7ffd-42ce-ba03-78943ca10295",
   "metadata": {},
   "outputs": [
    {
     "name": "stdout",
     "output_type": "stream",
     "text": [
      "🖥 Executing SQL query from file ./sql-scripts/4_4_check_hourly_rate_anomaly.sql\n",
      "✅ Query executed successfully. 1 row to display.\n"
     ]
    },
    {
     "data": {
      "text/html": [
       "<style type=\"text/css\">\n",
       "</style>\n",
       "<table id=\"T_0bd53\">\n",
       "  <thead>\n",
       "    <tr>\n",
       "      <th id=\"T_0bd53_level0_col0\" class=\"col_heading level0 col0\" >employee_id</th>\n",
       "      <th id=\"T_0bd53_level0_col1\" class=\"col_heading level0 col1\" >full_name</th>\n",
       "      <th id=\"T_0bd53_level0_col2\" class=\"col_heading level0 col2\" >department_name</th>\n",
       "      <th id=\"T_0bd53_level0_col3\" class=\"col_heading level0 col3\" >job_title</th>\n",
       "      <th id=\"T_0bd53_level0_col4\" class=\"col_heading level0 col4\" >status</th>\n",
       "      <th id=\"T_0bd53_level0_col5\" class=\"col_heading level0 col5\" >pay_type</th>\n",
       "      <th id=\"T_0bd53_level0_col6\" class=\"col_heading level0 col6\" >pay_rate</th>\n",
       "    </tr>\n",
       "  </thead>\n",
       "  <tbody>\n",
       "    <tr>\n",
       "      <td id=\"T_0bd53_row0_col0\" class=\"data row0 col0\" >101</td>\n",
       "      <td id=\"T_0bd53_row0_col1\" class=\"data row0 col1\" >Eric Hodges</td>\n",
       "      <td id=\"T_0bd53_row0_col2\" class=\"data row0 col2\" >Sales</td>\n",
       "      <td id=\"T_0bd53_row0_col3\" class=\"data row0 col3\" >Sales Associate</td>\n",
       "      <td id=\"T_0bd53_row0_col4\" class=\"data row0 col4\" >Terminated</td>\n",
       "      <td id=\"T_0bd53_row0_col5\" class=\"data row0 col5\" >Hourly</td>\n",
       "      <td id=\"T_0bd53_row0_col6\" class=\"data row0 col6\" >84184.600000</td>\n",
       "    </tr>\n",
       "  </tbody>\n",
       "</table>\n"
      ],
      "text/plain": [
       "<pandas.io.formats.style.Styler at 0x7519b8906a70>"
      ]
     },
     "metadata": {},
     "output_type": "display_data"
    }
   ],
   "source": [
    "execute_sql_query_from_file('./sql-scripts/4_4_check_hourly_rate_anomaly.sql')"
   ]
  },
  {
   "cell_type": "markdown",
   "id": "2aa8e9e1-8d7d-4cf3-afe3-8e94c85887bc",
   "metadata": {},
   "source": [
    "🚨 This query checks for employees with an hourly pay rate greater than \\\\$10,000, which would typically be considered an anomaly. In this case, the query returned a row for employee Eric Hodges, whose `pay_rate` is recorded as \\\\$84,184.60. This unusually high hourly rate suggests a data entry error, such as entering an annual salary into an hourly pay field."
   ]
  },
  {
   "cell_type": "markdown",
   "id": "339cd7a2-2502-4d87-83a0-5e11aff34ea4",
   "metadata": {},
   "source": [
    "## 🔒 5. Using SQL to Impose Data Integrity\n",
    "\n",
    "💡 **Note 1:** The queries in this section are **intentionally designed to fail**. They attempt to insert or update data in ways that violate the integrity rules we've defined in our schema - such as primary key constraints, foreign key references, and check conditions. These errors are a feature, not a bug: they demonstrate how well-structured databases protect themselves from invalid or inconsistent data. Understanding why these queries fail is just as important as writing queries that succeed.\n",
    "\n",
    "**📝 Note 2:** In this section, we will use **multiline strings** in Python by wrapping our SQL queries with triple single quotes (`'''`). Triple single quotes (`'''`) or triple double quotes (`\"\"\"`) are used in Python to define **multiline string literals**. These allow you to span text across multiple lines without needing escape characters like `\\n`. This is especially useful when writing SQL queries or large blocks of text."
   ]
  },
  {
   "cell_type": "markdown",
   "id": "c0b41405-e068-4f82-afc1-9e2dc36fe643",
   "metadata": {},
   "source": [
    "### 5.1 Prevent a duplicate `department_id`\n",
    "\n",
    "Try executing an `INSERT` statement with a primary key that already exists in the `departments` table. "
   ]
  },
  {
   "cell_type": "code",
   "execution_count": 14,
   "id": "de58a87e-be97-4fbc-99ee-6c14a9cb2494",
   "metadata": {},
   "outputs": [
    {
     "name": "stdout",
     "output_type": "stream",
     "text": [
      "❌ An error occurred: UNIQUE constraint failed: departments.department_id\n"
     ]
    }
   ],
   "source": [
    "execute_sql_query('''\n",
    "    INSERT INTO departments (department_id, department_name) \n",
    "    VALUES (1, 'Accounting'); -- ⚠️ department_id == 1 already exists in the departments table\n",
    "''')"
   ]
  },
  {
   "cell_type": "markdown",
   "id": "34410da6-78f5-43ad-8ebf-72efa976b2b0",
   "metadata": {},
   "source": [
    "🔍 Why it fails: `department_id = 1` already exists. This is a primary key constraint violation. Each primary key value should be unique."
   ]
  },
  {
   "cell_type": "markdown",
   "id": "8b6bbcf2-1e51-4ec2-803c-1cbda8fd4ad8",
   "metadata": {},
   "source": [
    "#### Correct Query\n",
    "\n",
    "- When inserting a new department, you should omit the `department_id` so that the database can automatically assign the next available ID.\n",
    "- This prevents conflicts with existing IDs and helps maintain data integrity.\n",
    "\n",
    "💡 Note: Running this query multiple times will keep adding an extra row to the `departments` table with duplicate `department_name` value (`'Accounting'`). This is because we have not added a `UNIQUE` constraint to the `department_name` column."
   ]
  },
  {
   "cell_type": "code",
   "execution_count": 15,
   "id": "3c8163fe-f9ef-4044-bb1b-3f3b997230e9",
   "metadata": {},
   "outputs": [
    {
     "name": "stdout",
     "output_type": "stream",
     "text": [
      "✅ Query executed successfully. No results to display.\n"
     ]
    }
   ],
   "source": [
    "execute_sql_query('''\n",
    "    INSERT INTO departments (department_name) \n",
    "    VALUES ('Accounting');\n",
    "''')"
   ]
  },
  {
   "cell_type": "markdown",
   "id": "6c453587-d152-4718-9a8b-bd6a0ad478e2",
   "metadata": {},
   "source": [
    "Check the result."
   ]
  },
  {
   "cell_type": "code",
   "execution_count": 16,
   "id": "1019fef9-38bb-4adf-a16c-de1db503c9b7",
   "metadata": {},
   "outputs": [
    {
     "name": "stdout",
     "output_type": "stream",
     "text": [
      "✅ Query executed successfully. 8 rows to display.\n"
     ]
    },
    {
     "data": {
      "text/html": [
       "<style type=\"text/css\">\n",
       "</style>\n",
       "<table id=\"T_3df8f\">\n",
       "  <thead>\n",
       "    <tr>\n",
       "      <th id=\"T_3df8f_level0_col0\" class=\"col_heading level0 col0\" >department_id</th>\n",
       "      <th id=\"T_3df8f_level0_col1\" class=\"col_heading level0 col1\" >department_name</th>\n",
       "    </tr>\n",
       "  </thead>\n",
       "  <tbody>\n",
       "    <tr>\n",
       "      <td id=\"T_3df8f_row0_col0\" class=\"data row0 col0\" >1</td>\n",
       "      <td id=\"T_3df8f_row0_col1\" class=\"data row0 col1\" >Engineering</td>\n",
       "    </tr>\n",
       "    <tr>\n",
       "      <td id=\"T_3df8f_row1_col0\" class=\"data row1 col0\" >2</td>\n",
       "      <td id=\"T_3df8f_row1_col1\" class=\"data row1 col1\" >Human Resources</td>\n",
       "    </tr>\n",
       "    <tr>\n",
       "      <td id=\"T_3df8f_row2_col0\" class=\"data row2 col0\" >3</td>\n",
       "      <td id=\"T_3df8f_row2_col1\" class=\"data row2 col1\" >Marketing</td>\n",
       "    </tr>\n",
       "    <tr>\n",
       "      <td id=\"T_3df8f_row3_col0\" class=\"data row3 col0\" >4</td>\n",
       "      <td id=\"T_3df8f_row3_col1\" class=\"data row3 col1\" >Finance</td>\n",
       "    </tr>\n",
       "    <tr>\n",
       "      <td id=\"T_3df8f_row4_col0\" class=\"data row4 col0\" >5</td>\n",
       "      <td id=\"T_3df8f_row4_col1\" class=\"data row4 col1\" >Operations</td>\n",
       "    </tr>\n",
       "    <tr>\n",
       "      <td id=\"T_3df8f_row5_col0\" class=\"data row5 col0\" >6</td>\n",
       "      <td id=\"T_3df8f_row5_col1\" class=\"data row5 col1\" >Sales</td>\n",
       "    </tr>\n",
       "    <tr>\n",
       "      <td id=\"T_3df8f_row6_col0\" class=\"data row6 col0\" >7</td>\n",
       "      <td id=\"T_3df8f_row6_col1\" class=\"data row6 col1\" >Legal</td>\n",
       "    </tr>\n",
       "    <tr>\n",
       "      <td id=\"T_3df8f_row7_col0\" class=\"data row7 col0\" >8</td>\n",
       "      <td id=\"T_3df8f_row7_col1\" class=\"data row7 col1\" >Accounting</td>\n",
       "    </tr>\n",
       "  </tbody>\n",
       "</table>\n"
      ],
      "text/plain": [
       "<pandas.io.formats.style.Styler at 0x7519b8950e50>"
      ]
     },
     "metadata": {},
     "output_type": "display_data"
    }
   ],
   "source": [
    "execute_sql_query('''\n",
    "    SELECT * FROM departments;\n",
    "''')"
   ]
  },
  {
   "cell_type": "markdown",
   "id": "b4e08979-8738-46da-accf-d4656bfaa265",
   "metadata": {},
   "source": [
    "### 5.2 Prevent a duplicate `job_title`\n",
    "\n",
    "Try executing an `INSERT` statement with a job title that already exists in the `job_titles` table."
   ]
  },
  {
   "cell_type": "code",
   "execution_count": 17,
   "id": "98af23f8-a881-4ad6-91d1-11efdca9ef85",
   "metadata": {},
   "outputs": [
    {
     "name": "stdout",
     "output_type": "stream",
     "text": [
      "❌ An error occurred: UNIQUE constraint failed: job_titles.job_title\n"
     ]
    }
   ],
   "source": [
    "execute_sql_query('''\n",
    "    INSERT INTO job_titles (job_title) \n",
    "    VALUES ('Software Engineer'); -- ⚠️ `Software Engineer` already exists in the \n",
    "''')"
   ]
  },
  {
   "cell_type": "markdown",
   "id": "aaaedaaa-e09c-4a8b-aade-0259e07fe328",
   "metadata": {},
   "source": [
    "🔍 Why it fails: `job_title == 'Software Engineer'` already exists in the `job_title` table. → `UNIQUE` constraint violation on `job_title`."
   ]
  },
  {
   "cell_type": "markdown",
   "id": "695d4081-aa56-48cd-ad8c-4e6b662cf1fe",
   "metadata": {},
   "source": [
    "### 5.3 Prevent a negative `pay_rate`\n",
    "\n",
    "Try executing an `INSERT` statement with a negative `pay_rate`."
   ]
  },
  {
   "cell_type": "code",
   "execution_count": 18,
   "id": "82c19d6d-cf02-42b8-b6e9-2f253e7e32c4",
   "metadata": {},
   "outputs": [
    {
     "name": "stdout",
     "output_type": "stream",
     "text": [
      "❌ An error occurred: CHECK constraint failed: pay_rate > 0\n"
     ]
    }
   ],
   "source": [
    "execute_sql_query('''\n",
    "    INSERT INTO employees (\n",
    "        employee_id,\n",
    "        full_name,\n",
    "        start_date,\n",
    "        end_date,\n",
    "        department_id,\n",
    "        job_title_id,\n",
    "        status,\n",
    "        pay_type,\n",
    "        pay_rate\n",
    "    ) VALUES (\n",
    "        108,\n",
    "        'Ashley Potts',\n",
    "        '2023-01-01',\n",
    "        NULL,\n",
    "        1,\n",
    "        1,\n",
    "        'Active',\n",
    "        'Hourly',\n",
    "        -25.00 -- ⚠️ pay_rate is a negative amount\n",
    "    );\n",
    "''')"
   ]
  },
  {
   "cell_type": "markdown",
   "id": "061e5caf-df16-4474-a29a-c1de803806e3",
   "metadata": {},
   "source": [
    "🔍 Why it fails: `pay_rate` < 0 violates the `CHECK` constraint (`pay_rate` > 0)"
   ]
  },
  {
   "cell_type": "markdown",
   "id": "a6ccff35-34d7-40ae-924c-d852cea43d64",
   "metadata": {},
   "source": [
    "### 5.4 Prevent an `end_date` that is earlier than the `start_date`\n",
    "\n",
    "Try executing an `INSERT` statement with an `end_date` earlier than the `start_date`."
   ]
  },
  {
   "cell_type": "code",
   "execution_count": 19,
   "id": "1c471fee-a7f3-4819-a7b4-b1cddd0b4a83",
   "metadata": {},
   "outputs": [
    {
     "name": "stdout",
     "output_type": "stream",
     "text": [
      "❌ An error occurred: CHECK constraint failed: end_date IS NULL OR end_date >= start_date\n"
     ]
    }
   ],
   "source": [
    "execute_sql_query('''\n",
    "    INSERT INTO employees (\n",
    "        employee_id,\n",
    "        full_name,\n",
    "        start_date,\n",
    "        end_date,\n",
    "        department_id,\n",
    "        job_title_id,\n",
    "        status,\n",
    "        pay_type,\n",
    "        pay_rate\n",
    "    ) VALUES (\n",
    "        109,\n",
    "        'Jenny Park',\n",
    "        '2024-01-01',\n",
    "        '2022-12-01', -- ⚠️ end_date is 2022, while the start date is 2024\n",
    "        1,\n",
    "        1,\n",
    "        'Terminated',\n",
    "        'Salary',\n",
    "        80000\n",
    "    );\n",
    "''')"
   ]
  },
  {
   "cell_type": "markdown",
   "id": "a18b0378-7733-475e-ad41-45e7d8828dbb",
   "metadata": {},
   "source": [
    "🔍 Why it fails: `end_date` < `start_date` → `CHECK` constraint violation (`end_date IS NULL OR end_date >= start_date`)"
   ]
  },
  {
   "cell_type": "markdown",
   "id": "6a35a05e-6086-469b-a8a2-bd1d51dfba9a",
   "metadata": {},
   "source": [
    "### 5.5 Prevent an invalid employee `status` value\n",
    "\n",
    "Try executing an `INSERT` statement with a `status` that is not one of the allowed values."
   ]
  },
  {
   "cell_type": "code",
   "execution_count": 20,
   "id": "901b4906-7397-4389-b5fb-0e63df4a20b1",
   "metadata": {},
   "outputs": [
    {
     "name": "stdout",
     "output_type": "stream",
     "text": [
      "❌ An error occurred: CHECK constraint failed: status IN ('Active', 'On-boarding', 'Terminated')\n"
     ]
    }
   ],
   "source": [
    "execute_sql_query('''\n",
    "    INSERT INTO employees (\n",
    "        employee_id,\n",
    "        full_name,\n",
    "        start_date,\n",
    "        end_date,\n",
    "        department_id,\n",
    "        job_title_id,\n",
    "        status,\n",
    "        pay_type,\n",
    "        pay_rate\n",
    "    ) VALUES (\n",
    "        107,\n",
    "        'Ari Moss',\n",
    "        '2023-09-01',\n",
    "        NULL,\n",
    "        1,\n",
    "        1,\n",
    "        'Actiive', -- ⚠️ Invalid status (typo) - should be 'Active' instead of 'Actiive'\n",
    "        'Salary',\n",
    "        75000\n",
    "    );\n",
    "''')"
   ]
  },
  {
   "cell_type": "markdown",
   "id": "dcf3341a-10a9-47cf-b5c3-afbd06c63d67",
   "metadata": {},
   "source": [
    "🔍 Why it fails: 'Actiive' is not one of the allowed values according to the `CHECK` constraint on `status` (`IN ('Active', 'On-boarding', 'Terminated')`)"
   ]
  },
  {
   "cell_type": "markdown",
   "id": "30b82159",
   "metadata": {},
   "source": [
    "## ✅ 6. Summary and Next Steps\n",
    "In this notebook, we built a simple SQLite database to demonstrate key data governance principles: unique identifiers, referential integrity, and validation rules through constraints. These foundations are essential in building systems that are reliable, auditable, and secure. In the real-world, you may extend this database with more advanced concepts such as triggers, views, and real-time data validation."
   ]
  }
 ],
 "metadata": {
  "kernelspec": {
   "display_name": "Python 3 (ipykernel)",
   "language": "python",
   "name": "python3"
  },
  "language_info": {
   "codemirror_mode": {
    "name": "ipython",
    "version": 3
   },
   "file_extension": ".py",
   "mimetype": "text/x-python",
   "name": "python",
   "nbconvert_exporter": "python",
   "pygments_lexer": "ipython3",
   "version": "3.10.10"
  }
 },
 "nbformat": 4,
 "nbformat_minor": 5
}
